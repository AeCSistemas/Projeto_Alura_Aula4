{
  "nbformat": 4,
  "nbformat_minor": 0,
  "metadata": {
    "colab": {
      "provenance": [],
      "authorship_tag": "ABX9TyO/6z2qIHBQ8FWxS8Ca5FTi",
      "include_colab_link": true
    },
    "kernelspec": {
      "name": "python3",
      "display_name": "Python 3"
    },
    "language_info": {
      "name": "python"
    }
  },
  "cells": [
    {
      "cell_type": "markdown",
      "metadata": {
        "id": "view-in-github",
        "colab_type": "text"
      },
      "source": [
        "<a href=\"https://colab.research.google.com/github/AeCSistemas/Projeto_Alura_Aula4/blob/main/Projeto_Alura.ipynb\" target=\"_parent\"><img src=\"https://colab.research.google.com/assets/colab-badge.svg\" alt=\"Open In Colab\"/></a>"
      ]
    },
    {
      "cell_type": "code",
      "execution_count": null,
      "metadata": {
        "id": "_kCvyFT2hLpT"
      },
      "outputs": [],
      "source": [
        "!pip install -q -U google-generativeai"
      ]
    },
    {
      "cell_type": "code",
      "source": [
        "# Import the Python SDK\n",
        "import google.generativeai as genai\n",
        "from google.colab import userdata\n",
        "api_key = userdata.get(\"SECRET_KEY\")\n",
        "genai.configure(api_key=api_key)"
      ],
      "metadata": {
        "id": "AlZBBtF8hVI7"
      },
      "execution_count": null,
      "outputs": []
    },
    {
      "cell_type": "code",
      "source": [
        "for m in genai.list_models():\n",
        "  if 'generateContent' in m.supported_generation_methods:\n",
        "    print(m.name)"
      ],
      "metadata": {
        "colab": {
          "base_uri": "https://localhost:8080/",
          "height": 139
        },
        "id": "9fqMtwuThlUL",
        "outputId": "1a9f92c5-ad9f-439c-b2f0-b8c1617dd6c6"
      },
      "execution_count": null,
      "outputs": [
        {
          "output_type": "stream",
          "name": "stdout",
          "text": [
            "models/gemini-1.0-pro\n",
            "models/gemini-1.0-pro-001\n",
            "models/gemini-1.0-pro-latest\n",
            "models/gemini-1.0-pro-vision-latest\n",
            "models/gemini-1.5-pro-latest\n",
            "models/gemini-pro\n",
            "models/gemini-pro-vision\n"
          ]
        }
      ]
    },
    {
      "cell_type": "code",
      "source": [
        "generation_config = {\n",
        "    \"candidate_count\": 1, ## Apenas uma opção de resposta\n",
        "    \"temperature\": 0.5,  ## Define a aleotoriada. Quando maior mais fiel ao imput que estamos enviando apra LLM\n",
        "    }"
      ],
      "metadata": {
        "id": "LgqY_lWFoRAj"
      },
      "execution_count": null,
      "outputs": []
    },
    {
      "cell_type": "code",
      "source": [
        "## configurações de seguranca\n",
        "safety_settings = {\n",
        "    \"HARASSMENT\": \"BLOCK_NONE\",\n",
        "    \"HATE\": \"BLOCK_NONE\",\n",
        "    \"SEXUAL\": \"BLOCK_NONE\",\n",
        "    \"DANGEROUS\": \"BLOCK_NONE\"\n",
        "\n",
        "}"
      ],
      "metadata": {
        "id": "HITDHrOxp5Vx"
      },
      "execution_count": null,
      "outputs": []
    },
    {
      "cell_type": "markdown",
      "source": [
        "Inicializando o modelo"
      ],
      "metadata": {
        "id": "A-n5cgWJrBfL"
      }
    },
    {
      "cell_type": "code",
      "source": [
        "model = genai.GenerativeModel(model_name=\"gemini-pro\", generation_config=generation_config, safety_settings=safety_settings)"
      ],
      "metadata": {
        "id": "mwOPls57rGDH"
      },
      "execution_count": null,
      "outputs": []
    },
    {
      "cell_type": "code",
      "source": [
        "response = model.generate_content(\"Vamos aprender sobre IA. Me dê sugestões.\")\n",
        "print(response.text)"
      ],
      "metadata": {
        "id": "_avKx5z-r_bv"
      },
      "execution_count": null,
      "outputs": []
    },
    {
      "cell_type": "code",
      "source": [
        "chat = model.start_chat(history=[])"
      ],
      "metadata": {
        "id": "cKA3NnuLCRfe"
      },
      "execution_count": null,
      "outputs": []
    },
    {
      "cell_type": "code",
      "source": [
        "prompt = input(\"Esperando Prompt: \" )\n",
        "\n",
        "while prompt != \"fim\":\n",
        "  response = chat.send_message(prompt)\n",
        "  print(\"Resposta: \", response.text, \"\\n\")\n",
        "  prompt = input(\"Esperando Prompt: \" )"
      ],
      "metadata": {
        "colab": {
          "base_uri": "https://localhost:8080/",
          "height": 139
        },
        "id": "TEEMZof1Cqnn",
        "outputId": "e2912acd-4021-47de-ebad-e6cd8e3a5b02"
      },
      "execution_count": null,
      "outputs": [
        {
          "name": "stdout",
          "output_type": "stream",
          "text": [
            "Esperando Prompt: resuma o texto: Fui na fonte do tororo beber agua não achei, achei foi a menina que no tororo deixei\n",
            "Resposta:  Um homem foi à Fonte do Tororó para beber água, mas não a encontrou. Em vez disso, encontrou uma jovem e se apaixonou por ela, deixando-a no Tororó. \n",
            "\n",
            "Esperando Prompt: crie uma versão resumida/sumarizada\n",
            "Resposta:  Homem busca água na Fonte do Tororó, encontra amor e o deixa lá. \n",
            "\n",
            "Esperando Prompt: fim\n"
          ]
        }
      ]
    },
    {
      "cell_type": "code",
      "source": [
        "chat.history"
      ],
      "metadata": {
        "colab": {
          "base_uri": "https://localhost:8080/"
        },
        "id": "gkLA_4_QE_F9",
        "outputId": "22341ce5-be13-4bd9-80a2-f6f8a0a4979e"
      },
      "execution_count": null,
      "outputs": [
        {
          "output_type": "execute_result",
          "data": {
            "text/plain": [
              "[parts {\n",
              "   text: \"Qual a capital de minas gerais?\"\n",
              " }\n",
              " role: \"user\",\n",
              " parts {\n",
              "   text: \"Belo Horizonte\"\n",
              " }\n",
              " role: \"model\",\n",
              " parts {\n",
              "   text: \"Qual a comida tipica desta capital?\"\n",
              " }\n",
              " role: \"user\",\n",
              " parts {\n",
              "   text: \"Feij\\303\\243o tropeiro\"\n",
              " }\n",
              " role: \"model\",\n",
              " parts {\n",
              "   text: \"resuma o texto: Fui na fonte do tororo beber agua n\\303\\243o achei, achei foi a menina que no tororo deixei\"\n",
              " }\n",
              " role: \"user\",\n",
              " parts {\n",
              "   text: \"Um homem foi \\303\\240 Fonte do Toror\\303\\263 para beber \\303\\241gua, mas n\\303\\243o a encontrou. Em vez disso, encontrou uma jovem e se apaixonou por ela, deixando-a no Toror\\303\\263.\"\n",
              " }\n",
              " role: \"model\",\n",
              " parts {\n",
              "   text: \"crie uma vers\\303\\243o resumida/sumarizada\"\n",
              " }\n",
              " role: \"user\",\n",
              " parts {\n",
              "   text: \"Homem busca \\303\\241gua na Fonte do Toror\\303\\263, encontra amor e o deixa l\\303\\241.\"\n",
              " }\n",
              " role: \"model\"]"
            ]
          },
          "metadata": {},
          "execution_count": 17
        }
      ]
    }
  ]
}